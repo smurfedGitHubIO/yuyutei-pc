{
 "cells": [
  {
   "cell_type": "code",
   "execution_count": 1,
   "id": "05162e78",
   "metadata": {},
   "outputs": [],
   "source": [
    "import os\n",
    "import pandas as pd"
   ]
  },
  {
   "cell_type": "code",
   "execution_count": 2,
   "id": "d4899ea0",
   "metadata": {},
   "outputs": [],
   "source": [
    "directory = './dataset'\n",
    "\n",
    "lst = os.listdir(directory)\n",
    "\n",
    "for i in lst:\n",
    "    if 'small' in i:\n",
    "        os.remove(f'{directory}/{i}')"
   ]
  },
  {
   "cell_type": "code",
   "execution_count": 3,
   "id": "67777517",
   "metadata": {},
   "outputs": [],
   "source": [
    "directory = './dataset'\n",
    "tp = ['test', 'train', 'validation']"
   ]
  },
  {
   "cell_type": "code",
   "execution_count": 5,
   "id": "054dd8c8",
   "metadata": {},
   "outputs": [],
   "source": [
    "import shutil\n",
    "\n",
    "tp = ['test', 'train', 'validation']\n",
    "\n",
    "for j in tp:\n",
    "    lst = os.listdir(f'{directory}/{j}')\n",
    "    for i in lst:\n",
    "        os.mkdir(f'{directory}/{j}/{i[:-4]}')\n",
    "        shutil.move(f'{directory}/{j}/{i}', f'{directory}/{j}/{i[:-4]}/{i}')"
   ]
  },
  {
   "cell_type": "markdown",
   "id": "8d9c9a6d",
   "metadata": {},
   "source": [
    "Hindi automated yung pagmove and pagcreate ng files sa `train`, `test`, and `validation` folders."
   ]
  },
  {
   "cell_type": "markdown",
   "id": "b268a343",
   "metadata": {},
   "source": []
  }
 ],
 "metadata": {
  "kernelspec": {
   "display_name": "Python 3",
   "language": "python",
   "name": "python3"
  },
  "language_info": {
   "codemirror_mode": {
    "name": "ipython",
    "version": 3
   },
   "file_extension": ".py",
   "mimetype": "text/x-python",
   "name": "python",
   "nbconvert_exporter": "python",
   "pygments_lexer": "ipython3",
   "version": "3.13.3"
  }
 },
 "nbformat": 4,
 "nbformat_minor": 5
}
