{
 "cells": [
  {
   "cell_type": "code",
   "execution_count": 1,
   "id": "716e49ea",
   "metadata": {},
   "outputs": [
    {
     "name": "stderr",
     "output_type": "stream",
     "text": [
      "c:\\Users\\Justin Clyde\\AppData\\Local\\Programs\\Python\\Python313\\Lib\\site-packages\\tqdm\\auto.py:21: TqdmWarning: IProgress not found. Please update jupyter and ipywidgets. See https://ipywidgets.readthedocs.io/en/stable/user_install.html\n",
      "  from .autonotebook import tqdm as notebook_tqdm\n"
     ]
    }
   ],
   "source": [
    "from urllib.request import urlopen\n",
    "from PIL import Image\n",
    "import timm\n",
    "\n",
    "model = timm.create_model('mobilenetv3_small_100.lamb_in1k', pretrained=True)\n",
    "# model = model.eval()"
   ]
  },
  {
   "cell_type": "code",
   "execution_count": 2,
   "id": "815abf6a",
   "metadata": {},
   "outputs": [],
   "source": [
    "# import torch\n",
    "# from torchvision.datasets import ImageFolder\n",
    "# from torchvision.transforms import transforms\n",
    "# from torch.utils.data import DataLoader\n",
    "\n",
    "# test_dir = './dataset/test'\n",
    "# train_dir = './dataset/train'\n",
    "# val_dir = './dataset/val'\n",
    "\n",
    "# transform = transforms.Compose([\n",
    "#     transforms.Resize(256),\n",
    "#     transforms.CenterCrop(224),\n",
    "#     transforms.ToTensor(),\n",
    "#     transforms.Normalize(mean=[0.485, 0.456, 0.406], std=[0.229, 0.224, 0.225])\n",
    "# ])\n",
    "\n",
    "# train_ds = ImageFolder(train_dir, transform=transform)\n",
    "# val_ds = ImageFolder(val_dir, transform=transform)\n",
    "# test_ds = ImageFolder(test_dir, transform=transform)\n",
    "\n",
    "# train_loader = DataLoader(train_ds, batch_size=32, shuffle=True)\n",
    "# val_loader = DataLoader(val_ds, batch_size=32, shuffle=False)\n",
    "# test_loader = DataLoader(test_ds, batch_size=32, shuffle=False)"
   ]
  },
  {
   "cell_type": "markdown",
   "id": "1da6eaf8",
   "metadata": {},
   "source": [
    "Preprocess the images on each subfolder\n"
   ]
  },
  {
   "cell_type": "markdown",
   "id": "85f8180c",
   "metadata": {},
   "source": [
    "## SKIP THIS"
   ]
  },
  {
   "cell_type": "code",
   "execution_count": 3,
   "id": "c853d68d",
   "metadata": {},
   "outputs": [],
   "source": [
    "# from PIL import Image, ImageFilter\n",
    "# import os\n",
    "\n",
    "# test_dir = './dataset/test'\n",
    "# train_dir = './dataset/train'\n",
    "# val_dir = './dataset/validation'\n",
    "\n",
    "# dir_lst = [test_dir, train_dir, val_dir]\n",
    "\n",
    "# filters = [ImageFilter.BoxBlur(5), ImageFilter.SHARPEN, ImageFilter.SMOOTH]\n",
    "# filtername = [\"BLUR\", \"SHARP\", \"SMOOTH\"]\n",
    "\n",
    "# for dir in dir_lst:\n",
    "#     for d in os.listdir(dir):\n",
    "#         for j in os.listdir(f'{dir}/{d}'):\n",
    "#             with Image.open(f'{dir}/{d}/{j}') as im:\n",
    "#                 for val in range(3):\n",
    "#                     im = im.convert(\"RGB\")\n",
    "#                     new_image = im.filter(filters[val])\n",
    "#                     new_image.save(f'{dir}/{d}/{j[:-4]}_{filtername[val]}.jpg')\n"
   ]
  },
  {
   "cell_type": "markdown",
   "id": "3287ce21",
   "metadata": {},
   "source": [
    "Next step is to create a train and test method"
   ]
  },
  {
   "cell_type": "code",
   "execution_count": 4,
   "id": "c5c06723",
   "metadata": {},
   "outputs": [],
   "source": [
    "from torchvision.datasets import ImageFolder\n",
    "from torchvision.transforms import transforms\n",
    "from torch.utils.data import DataLoader\n",
    "\n",
    "transforms = transforms.Compose([\n",
    "    transforms.Resize(256),\n",
    "    transforms.ToTensor(),\n",
    "    transforms.Normalize(mean=[0.485, 0.456, 0.406], std=[0.229, 0.224, 0.225])\n",
    "])\n",
    "\n",
    "train_dataset =ImageFolder('./dataset/train', transform=transforms)\n",
    "val_dataset = ImageFolder('./dataset/validation', transform=transforms)\n",
    "test_dataset = ImageFolder('./dataset/test', transform=transforms)\n",
    "\n",
    "train_loader = DataLoader(train_dataset, batch_size=12, shuffle=True)\n",
    "val_loader = DataLoader(val_dataset, batch_size=12, shuffle=False)\n",
    "test_loader = DataLoader(test_dataset, batch_size=12, shuffle=False)"
   ]
  },
  {
   "cell_type": "code",
   "execution_count": 5,
   "id": "ce889d84",
   "metadata": {},
   "outputs": [],
   "source": [
    "import torch\n",
    "\n",
    "criterion = torch.nn.CrossEntropyLoss()\n",
    "optimizer = torch.optim.SGD(model.parameters(), lr=0.01, momentum=0.9)"
   ]
  },
  {
   "cell_type": "code",
   "execution_count": 6,
   "id": "8ae0789c",
   "metadata": {},
   "outputs": [],
   "source": [
    "def train(model, train_loader, val_loader, criterion, optimizer, num_epochs):\n",
    "    device = torch.device(\"cuda\" if torch.cuda.is_available() else \"cpu\")\n",
    "\n",
    "    for epoch in range(num_epochs):\n",
    "        model.train()\n",
    "\n",
    "        running_loss, running_corrects = 0.0, 0\n",
    "\n",
    "        for inputs, labels in train_loader:\n",
    "            inputs = inputs.to(device)\n",
    "            labels = labels.to(device)\n",
    "\n",
    "            optimizer.zero_grad()\n",
    "\n",
    "            outputs = model(inputs)\n",
    "\n",
    "            _, preds = torch.max(outputs, 1)\n",
    "\n",
    "            loss = criterion(outputs, labels)\n",
    "\n",
    "            loss.backward()\n",
    "            optimizer.step()\n",
    "\n",
    "            running_loss += loss.item()*inputs.size(0)\n",
    "            running_corrects += torch.sum(preds == labels.data)\n",
    "        train_loss = running_loss/len(train_loader.dataset)\n",
    "        train_acc = running_corrects.float()/len(train_loader.dataset)\n",
    "\n",
    "        model.eval()\n",
    "        running_loss, running_corrects = 0.0, 0\n",
    "\n",
    "        with torch.no_grad():\n",
    "            for inputs, labels in val_loader:\n",
    "                inputs = inputs.to(device)\n",
    "                labels = labels.to(device)\n",
    "\n",
    "                outputs = model(inputs)\n",
    "\n",
    "                _, preds = torch.max(outputs, 1)\n",
    "\n",
    "                loss = criterion(outputs, labels)\n",
    "                running_loss += loss.item()*inputs.size(0)\n",
    "                running_corrects += torch.sum(preds == labels.data)\n",
    "        val_loss = running_loss/len(train_loader.dataset)\n",
    "        val_acc = running_corrects.float()/len(train_loader.dataset)\n",
    "\n",
    "        print(f'Epoch [{epoch+1}/{num_epochs}], train loss: {train_loss:.4f}, train acc: {train_acc:.4f}, val loss: {val_loss:.4f}, val acc: {val_acc:.4f}')"
   ]
  },
  {
   "cell_type": "code",
   "execution_count": 7,
   "id": "e513dc75",
   "metadata": {},
   "outputs": [
    {
     "name": "stderr",
     "output_type": "stream",
     "text": [
      "c:\\Users\\Justin Clyde\\AppData\\Local\\Programs\\Python\\Python313\\Lib\\site-packages\\PIL\\Image.py:1043: UserWarning: Palette images with Transparency expressed in bytes should be converted to RGBA images\n",
      "  warnings.warn(\n"
     ]
    },
    {
     "name": "stdout",
     "output_type": "stream",
     "text": [
      "Epoch [1/50], train loss: 4.8587, train acc: 0.0625, val loss: 155904075.1500, val acc: 0.0000\n",
      "Epoch [2/50], train loss: 2.9345, train acc: 0.2667, val loss: 12977.8104, val acc: 0.0042\n",
      "Epoch [3/50], train loss: 2.0803, train acc: 0.4000, val loss: 9.2278, val acc: 0.1000\n",
      "Epoch [4/50], train loss: 1.3189, train acc: 0.6417, val loss: 1.9971, val acc: 0.5750\n",
      "Epoch [5/50], train loss: 0.7616, train acc: 0.7708, val loss: 1.6596, val acc: 0.6250\n",
      "Epoch [6/50], train loss: 0.5100, train acc: 0.8708, val loss: 0.7324, val acc: 0.7458\n",
      "Epoch [7/50], train loss: 0.3487, train acc: 0.8875, val loss: 0.3409, val acc: 0.8792\n",
      "Epoch [8/50], train loss: 0.3784, train acc: 0.9083, val loss: 0.2436, val acc: 0.9292\n",
      "Epoch [9/50], train loss: 0.2317, train acc: 0.9250, val loss: 0.0962, val acc: 0.9667\n",
      "Epoch [10/50], train loss: 0.0805, train acc: 0.9875, val loss: 0.1336, val acc: 0.9375\n",
      "Epoch [11/50], train loss: 0.1076, train acc: 0.9667, val loss: 0.0059, val acc: 1.0000\n",
      "Epoch [12/50], train loss: 0.1160, train acc: 0.9625, val loss: 0.0174, val acc: 1.0000\n",
      "Epoch [13/50], train loss: 0.0600, train acc: 0.9792, val loss: 0.0248, val acc: 0.9875\n",
      "Epoch [14/50], train loss: 0.0363, train acc: 0.9875, val loss: 0.0388, val acc: 0.9833\n",
      "Epoch [15/50], train loss: 0.0144, train acc: 1.0000, val loss: 0.0007, val acc: 1.0000\n",
      "Epoch [16/50], train loss: 0.0461, train acc: 0.9917, val loss: 0.0039, val acc: 1.0000\n",
      "Epoch [17/50], train loss: 0.0122, train acc: 0.9958, val loss: 0.0042, val acc: 1.0000\n",
      "Epoch [18/50], train loss: 0.0048, train acc: 1.0000, val loss: 0.0002, val acc: 1.0000\n",
      "Epoch [19/50], train loss: 0.0024, train acc: 1.0000, val loss: 0.0001, val acc: 1.0000\n",
      "Epoch [20/50], train loss: 0.0016, train acc: 1.0000, val loss: 0.0001, val acc: 1.0000\n",
      "Epoch [21/50], train loss: 0.0008, train acc: 1.0000, val loss: 0.0001, val acc: 1.0000\n",
      "Epoch [22/50], train loss: 0.0022, train acc: 1.0000, val loss: 0.0001, val acc: 1.0000\n",
      "Epoch [23/50], train loss: 0.0016, train acc: 1.0000, val loss: 0.0000, val acc: 1.0000\n",
      "Epoch [24/50], train loss: 0.0016, train acc: 1.0000, val loss: 0.0000, val acc: 1.0000\n",
      "Epoch [25/50], train loss: 0.0005, train acc: 1.0000, val loss: 0.0000, val acc: 1.0000\n",
      "Epoch [26/50], train loss: 0.0008, train acc: 1.0000, val loss: 0.0000, val acc: 1.0000\n",
      "Epoch [27/50], train loss: 0.0004, train acc: 1.0000, val loss: 0.0000, val acc: 1.0000\n",
      "Epoch [28/50], train loss: 0.0005, train acc: 1.0000, val loss: 0.0000, val acc: 1.0000\n",
      "Epoch [29/50], train loss: 0.0005, train acc: 1.0000, val loss: 0.0000, val acc: 1.0000\n",
      "Epoch [30/50], train loss: 0.0008, train acc: 1.0000, val loss: 0.0000, val acc: 1.0000\n",
      "Epoch [31/50], train loss: 0.0006, train acc: 1.0000, val loss: 0.0000, val acc: 1.0000\n",
      "Epoch [32/50], train loss: 0.0005, train acc: 1.0000, val loss: 0.0000, val acc: 1.0000\n",
      "Epoch [33/50], train loss: 0.0008, train acc: 1.0000, val loss: 0.0000, val acc: 1.0000\n",
      "Epoch [34/50], train loss: 0.0004, train acc: 1.0000, val loss: 0.0000, val acc: 1.0000\n",
      "Epoch [35/50], train loss: 0.0010, train acc: 1.0000, val loss: 0.0000, val acc: 1.0000\n",
      "Epoch [36/50], train loss: 0.0006, train acc: 1.0000, val loss: 0.0000, val acc: 1.0000\n",
      "Epoch [37/50], train loss: 0.0005, train acc: 1.0000, val loss: 0.0000, val acc: 1.0000\n",
      "Epoch [38/50], train loss: 0.0011, train acc: 1.0000, val loss: 0.0000, val acc: 1.0000\n",
      "Epoch [39/50], train loss: 0.0003, train acc: 1.0000, val loss: 0.0000, val acc: 1.0000\n",
      "Epoch [40/50], train loss: 0.0005, train acc: 1.0000, val loss: 0.0000, val acc: 1.0000\n",
      "Epoch [41/50], train loss: 0.0003, train acc: 1.0000, val loss: 0.0000, val acc: 1.0000\n",
      "Epoch [42/50], train loss: 0.0004, train acc: 1.0000, val loss: 0.0000, val acc: 1.0000\n",
      "Epoch [43/50], train loss: 0.0006, train acc: 1.0000, val loss: 0.0000, val acc: 1.0000\n",
      "Epoch [44/50], train loss: 0.0003, train acc: 1.0000, val loss: 0.0000, val acc: 1.0000\n",
      "Epoch [45/50], train loss: 0.0004, train acc: 1.0000, val loss: 0.0000, val acc: 1.0000\n",
      "Epoch [46/50], train loss: 0.0007, train acc: 1.0000, val loss: 0.0000, val acc: 1.0000\n",
      "Epoch [47/50], train loss: 0.0004, train acc: 1.0000, val loss: 0.0000, val acc: 1.0000\n",
      "Epoch [48/50], train loss: 0.0004, train acc: 1.0000, val loss: 0.0000, val acc: 1.0000\n",
      "Epoch [49/50], train loss: 0.0015, train acc: 1.0000, val loss: 0.0000, val acc: 1.0000\n",
      "Epoch [50/50], train loss: 0.0008, train acc: 1.0000, val loss: 0.0000, val acc: 1.0000\n"
     ]
    }
   ],
   "source": [
    "model = model.to(torch.device(\"cuda\" if torch.cuda.is_available() else \"cpu\"))\n",
    "train(model, train_loader, val_loader, criterion, optimizer, 50)"
   ]
  },
  {
   "cell_type": "code",
   "execution_count": 12,
   "id": "ed296cea",
   "metadata": {},
   "outputs": [],
   "source": [
    "torch.save(model.state_dict(), f='custom_weights.pt')"
   ]
  },
  {
   "cell_type": "code",
   "execution_count": 2,
   "id": "359d40f3",
   "metadata": {},
   "outputs": [
    {
     "name": "stderr",
     "output_type": "stream",
     "text": [
      "c:\\Users\\Justin Clyde\\AppData\\Local\\Programs\\Python\\Python313\\Lib\\site-packages\\tqdm\\auto.py:21: TqdmWarning: IProgress not found. Please update jupyter and ipywidgets. See https://ipywidgets.readthedocs.io/en/stable/user_install.html\n",
      "  from .autonotebook import tqdm as notebook_tqdm\n"
     ]
    },
    {
     "ename": "TypeError",
     "evalue": "'module' object is not callable",
     "output_type": "error",
     "traceback": [
      "\u001b[31m---------------------------------------------------------------------------\u001b[39m",
      "\u001b[31mTypeError\u001b[39m                                 Traceback (most recent call last)",
      "\u001b[36mCell\u001b[39m\u001b[36m \u001b[39m\u001b[32mIn[2]\u001b[39m\u001b[32m, line 11\u001b[39m\n\u001b[32m      6\u001b[39m model = timm.create_model(model_name=\u001b[33m'\u001b[39m\u001b[33mmobilenetv3_small_100.lamb_in1k\u001b[39m\u001b[33m'\u001b[39m,\n\u001b[32m      7\u001b[39m                           checkpoint_path=\u001b[33m\"\u001b[39m\u001b[33mcustom_weights.pt\u001b[39m\u001b[33m\"\u001b[39m,\n\u001b[32m      8\u001b[39m                           pretrained=\u001b[38;5;28;01mFalse\u001b[39;00m) \n\u001b[32m      9\u001b[39m model.eval()\n\u001b[32m---> \u001b[39m\u001b[32m11\u001b[39m img = \u001b[43mImage\u001b[49m\u001b[43m(\u001b[49m\u001b[33;43m'\u001b[39;49m\u001b[33;43mOP01-001.png\u001b[39;49m\u001b[33;43m'\u001b[39;49m\u001b[43m)\u001b[49m\n\u001b[32m     13\u001b[39m data_config = timm.data.resolve_model_data_config(model)\n\u001b[32m     14\u001b[39m transforms = timm.data.create_transform(**data_config, is_training=\u001b[38;5;28;01mFalse\u001b[39;00m)\n",
      "\u001b[31mTypeError\u001b[39m: 'module' object is not callable"
     ]
    }
   ],
   "source": [
    "# how to load model\n",
    "# https://github.com/huggingface/pytorch-image-models/discussions/1709\n",
    "\n",
    "from PIL import Image\n",
    "import timm\n",
    "model = timm.create_model(model_name='mobilenetv3_small_100.lamb_in1k',\n",
    "                          checkpoint_path=\"custom_weights.pt\",\n",
    "                          pretrained=False) \n",
    "model.eval()\n",
    "\n",
    "img = Image('OP01-001.png')\n",
    "\n",
    "data_config = timm.data.resolve_model_data_config(model)\n",
    "transforms = timm.data.create_transform(**data_config, is_training=False)\n",
    "\n",
    "output = model(transforms(img).unsqueeze(0))  # unsqueeze single image into batch of 1\n",
    "\n",
    "top5_probabilities, top5_class_indices = torch.topk(output.softmax(dim=1) * 100, k=5)\n",
    "print(top5_class_indices, top5_probabilities)\n"
   ]
  },
  {
   "cell_type": "code",
   "execution_count": null,
   "id": "18b9fe07",
   "metadata": {},
   "outputs": [],
   "source": []
  }
 ],
 "metadata": {
  "kernelspec": {
   "display_name": "Python 3",
   "language": "python",
   "name": "python3"
  },
  "language_info": {
   "codemirror_mode": {
    "name": "ipython",
    "version": 3
   },
   "file_extension": ".py",
   "mimetype": "text/x-python",
   "name": "python",
   "nbconvert_exporter": "python",
   "pygments_lexer": "ipython3",
   "version": "3.13.3"
  }
 },
 "nbformat": 4,
 "nbformat_minor": 5
}
